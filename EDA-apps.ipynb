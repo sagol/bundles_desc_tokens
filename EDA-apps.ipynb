{
 "cells": [
  {
   "cell_type": "code",
   "execution_count": null,
   "id": "boxed-recorder",
   "metadata": {
    "ExecuteTime": {
     "end_time": "2021-05-09T18:09:05.347174Z",
     "start_time": "2021-05-09T18:09:04.207704Z"
    }
   },
   "outputs": [],
   "source": [
    "import numpy as np # linear algebra\n",
    "import pandas as pd # data processing, CSV file I/O (e.g. pd.read_csv)\n",
    "import os\n",
    "import catboost\n",
    "\n",
    "from catboost import Pool\n",
    "from sklearn.model_selection import train_test_split\n",
    "from catboost import CatBoostClassifier\n",
    "\n",
    "print(catboost.__version__)"
   ]
  },
  {
   "cell_type": "code",
   "execution_count": null,
   "id": "hourly-powell",
   "metadata": {
    "ExecuteTime": {
     "end_time": "2021-05-09T18:10:15.653244Z",
     "start_time": "2021-05-09T18:09:05.349265Z"
    }
   },
   "outputs": [],
   "source": [
    "# https://www.kaggle.com/sagol79/stemmed-description-tokens-and-application-genres\n",
    "parse_dates = ['bundle_released_at', 'updated_at', 'bundle_updated_at'] \n",
    "tokens_df = pd.read_csv('bundles_desc_tokens.csv.gz', index_col='id')\n",
    "desc_df = pd.read_csv('bundles_desc.csv.gz', index_col='id')\n",
    "prop_df = pd.read_csv('bundles_prop.csv.gz', index_col='id', parse_dates=parse_dates)\n",
    "sum_df = pd.read_csv('bundles_summary.csv.gz', index_col='id')\n",
    "df = tokens_df.join(desc_df).join(prop_df).join(sum_df)\n",
    "df.head()"
   ]
  },
  {
   "cell_type": "code",
   "execution_count": null,
   "id": "prepared-detector",
   "metadata": {
    "ExecuteTime": {
     "end_time": "2021-05-09T18:13:29.945975Z",
     "start_time": "2021-05-09T18:13:28.761535Z"
    }
   },
   "outputs": [],
   "source": [
    "df['bundle_released_at'] = df['bundle_released_at'].fillna(\n",
    "    pd.to_datetime(\n",
    "        df['bundle_updated_at'], utc=True).dt.tz_convert(None))\n",
    "df['bundle_updated_at'] = df['bundle_updated_at'].fillna(\n",
    "    df['bundle_released_at'])"
   ]
  },
  {
   "cell_type": "code",
   "execution_count": null,
   "id": "statewide-hughes",
   "metadata": {
    "ExecuteTime": {
     "end_time": "2021-05-09T18:10:20.760232Z",
     "start_time": "2021-05-09T18:10:16.819011Z"
    }
   },
   "outputs": [],
   "source": [
    "df['store_os'].hist(backend='plotly')"
   ]
  },
  {
   "cell_type": "code",
   "execution_count": null,
   "id": "rental-dollar",
   "metadata": {
    "ExecuteTime": {
     "end_time": "2021-05-04T22:48:57.351142Z",
     "start_time": "2021-05-04T22:48:53.659146Z"
    }
   },
   "outputs": [],
   "source": [
    "df[['genre', 'store_os']].hist(\n",
    "    'genre', backend='plotly', orientation='h', histnorm='probability',\n",
    "    color='store_os', height=1200)"
   ]
  },
  {
   "cell_type": "code",
   "execution_count": null,
   "id": "every-landscape",
   "metadata": {
    "ExecuteTime": {
     "end_time": "2021-05-04T22:49:12.386588Z",
     "start_time": "2021-05-04T22:48:57.353260Z"
    }
   },
   "outputs": [],
   "source": [
    "df[['bundle_released_at', 'store_os']].hist(\n",
    "    backend='plotly', color='store_os', title=\"Apps release dates\",\n",
    "    histnorm='probability')"
   ]
  },
  {
   "cell_type": "code",
   "execution_count": null,
   "id": "fiscal-hurricane",
   "metadata": {
    "ExecuteTime": {
     "end_time": "2021-05-04T22:49:27.512105Z",
     "start_time": "2021-05-04T22:49:12.388960Z"
    }
   },
   "outputs": [],
   "source": [
    "df[['updated_at', 'store_os']].hist(\n",
    "    backend='plotly', color='store_os', title=\"Dataset update dates\", histnorm='probability')"
   ]
  },
  {
   "cell_type": "code",
   "execution_count": null,
   "id": "finished-vanilla",
   "metadata": {
    "ExecuteTime": {
     "end_time": "2021-05-04T22:50:41.947852Z",
     "start_time": "2021-05-04T22:49:27.515783Z"
    }
   },
   "outputs": [],
   "source": [
    "df[['bundle_updated_at', 'store_os']].hist(\n",
    "    backend='plotly', color='store_os', title=\"Bundle update date\", histnorm='probability')"
   ]
  },
  {
   "cell_type": "code",
   "execution_count": null,
   "id": "great-spain",
   "metadata": {
    "ExecuteTime": {
     "end_time": "2021-05-09T18:13:43.244737Z",
     "start_time": "2021-05-09T18:13:42.142304Z"
    }
   },
   "outputs": [],
   "source": [
    "df['bundle_update_period'] = \\\n",
    "    (pd.to_datetime(\n",
    "        df['bundle_updated_at'], utc=True).dt.tz_convert(None).dt.to_period('M').astype('int') - \n",
    "     df['bundle_released_at'].dt.to_period('M').astype('int'))\n"
   ]
  },
  {
   "cell_type": "code",
   "execution_count": null,
   "id": "compact-tolerance",
   "metadata": {
    "ExecuteTime": {
     "end_time": "2021-05-04T22:50:44.949275Z",
     "start_time": "2021-05-04T22:50:43.013566Z"
    }
   },
   "outputs": [],
   "source": [
    "df[df['bundle_update_period'] > 0][['bundle_update_period', 'store_os']].dropna().hist(\n",
    "    backend='plotly', color='store_os', title=\"Apps update periods in months\",\n",
    "    histnorm='probability')"
   ]
  },
  {
   "cell_type": "code",
   "execution_count": null,
   "id": "isolated-matthew",
   "metadata": {
    "ExecuteTime": {
     "end_time": "2021-05-09T18:13:50.479397Z",
     "start_time": "2021-05-09T18:13:49.628683Z"
    }
   },
   "outputs": [],
   "source": [
    "def get_lengths(df, columns=['tokens', 'description']):\n",
    "    lengths_df = pd.DataFrame()\n",
    "    for i, c in enumerate(columns):\n",
    "        lengths_df[f\"{c}_len\"] = df[c].apply(len)\n",
    "        if i > 0:\n",
    "            lengths_df[f\"{c}_div\"] = \\\n",
    "                lengths_df.iloc[:, i-1] / lengths_df.iloc[:, i]\n",
    "            lengths_df[f\"{c}_diff\"] = \\\n",
    "                lengths_df.iloc[:, i-1] - lengths_df.iloc[:, i]\n",
    "    return lengths_df\n",
    "\n",
    "df = pd.concat([df, get_lengths(df)], axis=1, sort=False, copy=False)"
   ]
  },
  {
   "cell_type": "code",
   "execution_count": null,
   "id": "seasonal-retention",
   "metadata": {
    "ExecuteTime": {
     "end_time": "2021-05-04T22:50:50.247701Z",
     "start_time": "2021-05-04T22:50:45.651819Z"
    }
   },
   "outputs": [],
   "source": [
    "df[['description_len', 'tokens_len']].hist(backend='plotly')"
   ]
  },
  {
   "cell_type": "code",
   "execution_count": null,
   "id": "prime-russia",
   "metadata": {
    "ExecuteTime": {
     "end_time": "2021-05-09T18:13:56.961964Z",
     "start_time": "2021-05-09T18:13:56.936729Z"
    }
   },
   "outputs": [],
   "source": [
    "df['released_at_month'] = \\\n",
    "    (pd.Timestamp.today() - df['bundle_released_at']).astype('timedelta64[M]').astype('int')"
   ]
  },
  {
   "cell_type": "code",
   "execution_count": null,
   "id": "plastic-promotion",
   "metadata": {
    "ExecuteTime": {
     "end_time": "2021-05-09T18:22:03.386382Z",
     "start_time": "2021-05-09T18:22:01.570379Z"
    }
   },
   "outputs": [],
   "source": [
    "df[['released_at_month', 'store_os']].hist(\n",
    "    backend='plotly', color='store_os', title=\"Months since release\",\n",
    "    histnorm='probability')"
   ]
  },
  {
   "cell_type": "code",
   "execution_count": null,
   "id": "equipped-player",
   "metadata": {
    "ExecuteTime": {
     "end_time": "2021-05-09T18:14:05.671678Z",
     "start_time": "2021-05-09T18:14:05.475668Z"
    }
   },
   "outputs": [],
   "source": [
    "android_df = df[df['store_os']=='android']\n",
    "ios_df = df[df['store_os']=='ios']"
   ]
  },
  {
   "cell_type": "code",
   "execution_count": null,
   "id": "lovely-helmet",
   "metadata": {
    "ExecuteTime": {
     "end_time": "2021-05-09T18:14:06.530194Z",
     "start_time": "2021-05-09T18:14:06.524367Z"
    }
   },
   "outputs": [],
   "source": [
    "columns = [\n",
    "    'genre', 'tokens', 'bundle_update_period', 'tokens_len',\n",
    "    'description_len', 'description_div', 'description_diff',\n",
    "    'description', 'rating', 'reviews',\n",
    "    'released_at_month'\n",
    "]"
   ]
  },
  {
   "cell_type": "code",
   "execution_count": null,
   "id": "electoral-syndrome",
   "metadata": {
    "ExecuteTime": {
     "end_time": "2021-05-04T22:50:57.194917Z",
     "start_time": "2021-05-04T22:50:55.007104Z"
    }
   },
   "outputs": [],
   "source": [
    "train_df, test_df = train_test_split(\n",
    "    android_df[columns], train_size=0.7, random_state=0, stratify=android_df['genre'])\n",
    "\n",
    "y_train, X_train = train_df['genre'], train_df.drop(['genre'], axis=1)\n",
    "y_test, X_test = test_df['genre'], test_df.drop(['genre'], axis=1)\n",
    "\n",
    "train_pool = Pool(\n",
    "    data=X_train, \n",
    "    label=y_train,\n",
    "    text_features=['tokens', 'description']\n",
    ")\n",
    "\n",
    "test_pool = Pool(\n",
    "    data=X_test, \n",
    "    label=y_test, \n",
    "    text_features=['tokens', 'description']\n",
    ")\n",
    "\n",
    "print('Train dataset shape: {}\\n'.format(train_pool.shape))"
   ]
  },
  {
   "cell_type": "code",
   "execution_count": null,
   "id": "level-robin",
   "metadata": {
    "ExecuteTime": {
     "end_time": "2021-05-09T18:14:13.599830Z",
     "start_time": "2021-05-09T18:14:13.590596Z"
    },
    "code_folding": []
   },
   "outputs": [],
   "source": [
    "def fit_model(train_pool, test_pool, **kwargs):\n",
    "    model = CatBoostClassifier(\n",
    "        task_type='GPU',\n",
    "        iterations=10000,\n",
    "        eval_metric='Accuracy',\n",
    "        od_type='Iter',\n",
    "        od_wait=1000,\n",
    "        **kwargs\n",
    "    )\n",
    "\n",
    "    return model.fit(\n",
    "        train_pool,\n",
    "        eval_set=test_pool,\n",
    "        verbose=1000,\n",
    "        plot=True,\n",
    "        use_best_model=True\n",
    "    )"
   ]
  },
  {
   "cell_type": "code",
   "execution_count": null,
   "id": "helpful-denial",
   "metadata": {
    "ExecuteTime": {
     "end_time": "2021-05-09T18:14:14.809128Z",
     "start_time": "2021-05-09T18:14:14.795383Z"
    },
    "code_folding": [
     0
    ]
   },
   "outputs": [],
   "source": [
    "tpo = {\n",
    "    'tokenizers': [\n",
    "        {\n",
    "            'tokenizer_id': 'Sense',\n",
    "            'separator_type': 'BySense',\n",
    "        }\n",
    "    ],\n",
    "    'dictionaries': [\n",
    "        {\n",
    "            'dictionary_id': 'Word',\n",
    "            'token_level_type': 'Word',\n",
    "            'occurrence_lower_bound': '10'\n",
    "        },\n",
    "        {\n",
    "            'dictionary_id': 'Bigram',\n",
    "            'token_level_type': 'Word',\n",
    "            'gram_order': '2',\n",
    "            'occurrence_lower_bound': '10'\n",
    "        },\n",
    "        {\n",
    "            'dictionary_id': 'Trigram',\n",
    "            'token_level_type': 'Word',\n",
    "            'gram_order': '3',\n",
    "            'occurrence_lower_bound': '10'\n",
    "        },\n",
    "    ],\n",
    "    'feature_processing': {\n",
    "        '0': [\n",
    "            {\n",
    "                'tokenizers_names': ['Sense'],\n",
    "                'dictionaries_names': ['Word'],\n",
    "                'feature_calcers': ['BoW']\n",
    "            },\n",
    "            {\n",
    "                'tokenizers_names': ['Sense'],\n",
    "                'dictionaries_names': ['Bigram', 'Trigram'],\n",
    "                'feature_calcers': ['BoW']\n",
    "            },\n",
    "        ],\n",
    "        '1': [\n",
    "            {\n",
    "                'tokenizers_names': ['Sense'],\n",
    "                'dictionaries_names': ['Word'],\n",
    "                'feature_calcers': ['BoW', 'BM25']\n",
    "            },\n",
    "            {\n",
    "                'tokenizers_names': ['Sense'],\n",
    "                'dictionaries_names': ['Bigram', 'Trigram'],\n",
    "                'feature_calcers': ['BoW']\n",
    "            },\n",
    "        ]\n",
    "    }\n",
    "}\n"
   ]
  },
  {
   "cell_type": "code",
   "execution_count": null,
   "id": "informed-gamma",
   "metadata": {
    "ExecuteTime": {
     "end_time": "2021-05-04T23:44:16.106849Z",
     "start_time": "2021-05-04T22:50:57.468832Z"
    }
   },
   "outputs": [],
   "source": [
    "model_catboost = fit_model(\n",
    "    train_pool, test_pool,\n",
    "    learning_rate=0.1,\n",
    "    random_seed=0,\n",
    "    text_processing = tpo\n",
    ")"
   ]
  },
  {
   "cell_type": "code",
   "execution_count": null,
   "id": "front-links",
   "metadata": {
    "ExecuteTime": {
     "end_time": "2021-05-04T23:44:16.621199Z",
     "start_time": "2021-05-04T23:44:16.109543Z"
    }
   },
   "outputs": [],
   "source": [
    "fea_imp = pd.DataFrame({'importance': model_catboost.feature_importances_,\n",
    "                        'col': model_catboost.feature_names_})\n",
    "fea_imp = fea_imp.sort_values(['importance', 'col'],\n",
    "                               ascending=[True, False]).iloc[-40:]\n",
    "fea_imp.plot(kind='barh', x='col', y='importance', figsize=(10, 10))"
   ]
  },
  {
   "cell_type": "code",
   "execution_count": null,
   "id": "directed-singing",
   "metadata": {
    "ExecuteTime": {
     "end_time": "2021-05-09T18:14:21.613968Z",
     "start_time": "2021-05-09T18:14:21.596060Z"
    }
   },
   "outputs": [],
   "source": [
    "from sklearn.model_selection import StratifiedKFold\n",
    "\n",
    "def get_oof(n_folds, x_train, y, x_test, text_features, seeds):\n",
    "    \n",
    "    ntrain = x_train.shape[0]\n",
    "    ntest = x_test.shape[0]  \n",
    "        \n",
    "    oof_train = np.zeros((len(seeds), ntrain, 48))\n",
    "    oof_test = np.zeros((ntest, 48))\n",
    "    oof_test_skf = np.empty((len(seeds), n_folds, ntest, 48))\n",
    "    test_pool = Pool(data=x_test, text_features=text_features) \n",
    "    models = {}\n",
    "    for iseed, seed in enumerate(seeds):\n",
    "        kf = StratifiedKFold(\n",
    "            n_splits=n_folds,\n",
    "            shuffle=True,\n",
    "            random_state=seed)          \n",
    "        for i, (tr_i, t_i) in enumerate(kf.split(x_train, y)):\n",
    "            print(f'\\nSeed {seed}, Fold {i}')\n",
    "            x_tr = x_train.iloc[tr_i, :]\n",
    "            y_tr = y[tr_i]\n",
    "            x_te = x_train.iloc[t_i, :]\n",
    "            y_te = y[t_i]\n",
    "            train_pool = Pool(\n",
    "                data=x_tr, label=y_tr, text_features=text_features)\n",
    "            valid_pool = Pool(\n",
    "                data=x_te, label=y_te, text_features=text_features)\n",
    "            model = fit_model(\n",
    "                train_pool, valid_pool,\n",
    "                random_seed=seed,\n",
    "                text_processing = tpo\n",
    "            )\n",
    "            oof_train[iseed, t_i, :] = \\\n",
    "                model.predict_proba(x_te)\n",
    "            oof_test_skf[iseed, i, :, :] = \\\n",
    "                model.predict_proba(x_test)\n",
    "            models[(seed, i)] = model\n",
    "    oof_test[:, :] = oof_test_skf.mean(axis=1).mean(axis=0)\n",
    "    oof_train = oof_train.mean(axis=0)\n",
    "    return oof_train, oof_test, models"
   ]
  },
  {
   "cell_type": "code",
   "execution_count": null,
   "id": "aboriginal-absence",
   "metadata": {
    "ExecuteTime": {
     "end_time": "2021-05-05T16:29:49.450464Z",
     "start_time": "2021-05-04T23:44:16.636348Z"
    }
   },
   "outputs": [],
   "source": [
    "oof_train, oof_test, models = get_oof(\n",
    "    n_folds=5,\n",
    "    x_train=android_df[[x for x in columns if x!='genre']],\n",
    "    y=android_df['genre'].values,\n",
    "    x_test=ios_df[[x for x in columns if x!='genre']],\n",
    "    text_features=['tokens', 'description'],\n",
    "    seeds=[0, 42, 888]\n",
    ")"
   ]
  },
  {
   "cell_type": "code",
   "execution_count": null,
   "id": "sweet-radio",
   "metadata": {
    "ExecuteTime": {
     "end_time": "2021-05-09T18:14:38.272779Z",
     "start_time": "2021-05-09T18:14:37.737017Z"
    }
   },
   "outputs": [],
   "source": [
    "from sklearn.metrics import accuracy_score\n",
    "\n",
    "accuracy_score(\n",
    "    android_df['genre'].values,\n",
    "    np.take(models[(0,0)].classes_, oof_train.argmax(axis=1)))"
   ]
  },
  {
   "cell_type": "code",
   "execution_count": null,
   "id": "daily-measure",
   "metadata": {
    "ExecuteTime": {
     "end_time": "2021-05-09T18:14:44.364451Z",
     "start_time": "2021-05-09T18:14:44.176843Z"
    }
   },
   "outputs": [],
   "source": [
    "df.loc[df['store_os']=='ios', 'android_genre'] = \\\n",
    "    np.take(models[(0,0)].classes_, oof_test.argmax(axis=1))\n",
    "df.loc[df['store_os']=='android', 'android_genre'] = \\\n",
    "    np.take(models[(0,0)].classes_, oof_train.argmax(axis=1))"
   ]
  },
  {
   "cell_type": "code",
   "execution_count": null,
   "id": "severe-contents",
   "metadata": {
    "ExecuteTime": {
     "end_time": "2021-05-09T18:14:55.973184Z",
     "start_time": "2021-05-09T18:14:52.368474Z"
    }
   },
   "outputs": [],
   "source": [
    "df[['android_genre', 'store_os']].hist(\n",
    "    'android_genre', backend='plotly', orientation='h',\n",
    "    color='store_os', height=1000, histnorm='probability')"
   ]
  },
  {
   "cell_type": "code",
   "execution_count": null,
   "id": "desirable-climb",
   "metadata": {
    "ExecuteTime": {
     "end_time": "2021-05-09T18:15:36.022493Z",
     "start_time": "2021-05-09T18:15:35.372320Z"
    }
   },
   "outputs": [],
   "source": [
    "idx = df[df['store_os']=='ios'].index\n",
    "df.loc[df['store_os']=='ios', 'android_genre_vec'] = \\\n",
    "    pd.Series(list(oof_test), index=idx)\n",
    "idx = df[df['store_os']=='android'].index\n",
    "df.loc[df['store_os']=='android', 'android_genre_vec'] = \\\n",
    "    pd.Series(list(oof_train), index=idx)"
   ]
  }
 ],
 "metadata": {
  "kernelspec": {
   "display_name": "Python 3",
   "language": "python",
   "name": "python3"
  },
  "language_info": {
   "codemirror_mode": {
    "name": "ipython",
    "version": 3
   },
   "file_extension": ".py",
   "mimetype": "text/x-python",
   "name": "python",
   "nbconvert_exporter": "python",
   "pygments_lexer": "ipython3",
   "version": "3.8.6"
  }
 },
 "nbformat": 4,
 "nbformat_minor": 5
}
