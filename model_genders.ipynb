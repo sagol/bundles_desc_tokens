{
 "cells": [
  {
   "cell_type": "code",
   "execution_count": null,
   "id": "b585188c",
   "metadata": {
    "ExecuteTime": {
     "end_time": "2021-06-11T15:01:22.575756Z",
     "start_time": "2021-06-11T15:01:12.498928Z"
    }
   },
   "outputs": [],
   "source": [
    "import numpy as np # linear algebra\n",
    "import pandas as pd # data processing, CSV file I/O (e.g. pd.read_csv)\n",
    "import os\n",
    "from ast import literal_eval\n",
    "\n",
    "os.environ[\"CUDA_DEVICE_ORDER\"] = \"PCI_BUS_ID\" \n",
    "os.environ[\"CUDA_VISIBLE_DEVICES\"]= \"0\"    \n",
    "os.environ[\"TF_FORCE_GPU_ALLOW_GROWTH\"] = 'true'\n",
    "\n",
    "import catboost\n",
    "\n",
    "from catboost import Pool\n",
    "from sklearn.model_selection import train_test_split\n",
    "from catboost import CatBoostClassifier, CatBoostRegressor\n",
    "from sklearn.preprocessing import MultiLabelBinarizer\n",
    "from sklearn.linear_model import LogisticRegression\n",
    "from sklearn.model_selection import train_test_split\n",
    "from sklearn.metrics import accuracy_score\n",
    "from sklearn.metrics import roc_auc_score\n",
    "from sklearn.model_selection import StratifiedKFold\n",
    "\n",
    "print(catboost.__version__)"
   ]
  },
  {
   "cell_type": "code",
   "execution_count": null,
   "id": "78c74c5b",
   "metadata": {
    "ExecuteTime": {
     "end_time": "2021-06-11T15:01:42.279228Z",
     "start_time": "2021-06-11T15:01:22.577950Z"
    }
   },
   "outputs": [],
   "source": [
    "genders_df = pd.read_csv('./data/bundles_gender.csv', index_col='id')\n",
    "users_df = pd.read_csv('./data/users.csv', index_col='uid', converters={'ids': eval})"
   ]
  },
  {
   "cell_type": "code",
   "execution_count": null,
   "id": "8fa69714",
   "metadata": {
    "ExecuteTime": {
     "end_time": "2021-06-11T15:01:42.306056Z",
     "start_time": "2021-06-11T15:01:42.282041Z"
    }
   },
   "outputs": [],
   "source": [
    "users_df.head(10)"
   ]
  },
  {
   "cell_type": "code",
   "execution_count": null,
   "id": "e9c979d0",
   "metadata": {
    "ExecuteTime": {
     "end_time": "2021-06-11T15:01:50.087287Z",
     "start_time": "2021-06-11T15:01:42.307931Z"
    }
   },
   "outputs": [],
   "source": [
    "users_df['gend'].hist(backend='plotly')"
   ]
  },
  {
   "cell_type": "code",
   "execution_count": null,
   "id": "0d938c7a",
   "metadata": {
    "ExecuteTime": {
     "end_time": "2021-06-09T21:44:58.505423Z",
     "start_time": "2021-06-09T21:44:58.457676Z"
    }
   },
   "outputs": [],
   "source": [
    "genders_df.describe()"
   ]
  },
  {
   "cell_type": "code",
   "execution_count": null,
   "id": "88e8416e",
   "metadata": {
    "ExecuteTime": {
     "end_time": "2021-06-09T21:43:42.398010Z",
     "start_time": "2021-06-09T21:43:39.114620Z"
    }
   },
   "outputs": [],
   "source": [
    "genders_df[['M', 'F']].hist(backend='plotly', bins=100, barmode=\"overlay\")"
   ]
  },
  {
   "cell_type": "code",
   "execution_count": null,
   "id": "d480779f",
   "metadata": {
    "ExecuteTime": {
     "end_time": "2021-06-11T15:04:42.361296Z",
     "start_time": "2021-06-11T15:04:42.329366Z"
    }
   },
   "outputs": [],
   "source": [
    "genders_df[\n",
    "    (genders_df['F']>=0.3325) & \n",
    "    (genders_df['F']<=0.3375)\n",
    "].describe()"
   ]
  },
  {
   "cell_type": "code",
   "execution_count": null,
   "id": "81a6d8d2",
   "metadata": {
    "ExecuteTime": {
     "end_time": "2021-06-09T21:41:59.171102Z",
     "start_time": "2021-06-09T21:41:57.183115Z"
    }
   },
   "outputs": [],
   "source": [
    "genders_df[genders_df['cnt']>10][['M', 'F']].hist(backend='plotly', bins=100, barmode=\"overlay\")"
   ]
  },
  {
   "cell_type": "code",
   "execution_count": null,
   "id": "9496455e",
   "metadata": {
    "ExecuteTime": {
     "end_time": "2021-06-10T06:05:33.465079Z",
     "start_time": "2021-06-10T06:05:33.439174Z"
    }
   },
   "outputs": [],
   "source": [
    "genders_df[(genders_df['F']>=0.7475) & (genders_df['F']<=0.7525) & (genders_df['cnt']>10)]"
   ]
  },
  {
   "cell_type": "code",
   "execution_count": null,
   "id": "e2f8b4a6",
   "metadata": {
    "ExecuteTime": {
     "end_time": "2021-06-09T21:40:08.247265Z",
     "start_time": "2021-06-09T21:40:06.855626Z"
    }
   },
   "outputs": [],
   "source": [
    "genders_df[genders_df['cnt']>50][['M', 'F']].hist(backend='plotly', bins=100, barmode=\"overlay\")"
   ]
  },
  {
   "cell_type": "markdown",
   "id": "a4e20cf2",
   "metadata": {},
   "source": [
    "# New Features"
   ]
  },
  {
   "cell_type": "code",
   "execution_count": null,
   "id": "1828760b",
   "metadata": {
    "ExecuteTime": {
     "end_time": "2021-06-12T12:36:05.675751Z",
     "start_time": "2021-06-12T12:36:05.362843Z"
    }
   },
   "outputs": [],
   "source": [
    "users_df['apps_count'] = users_df['ids'].apply(len)"
   ]
  },
  {
   "cell_type": "code",
   "execution_count": null,
   "id": "2c9b052c",
   "metadata": {
    "ExecuteTime": {
     "end_time": "2021-06-09T22:11:18.905621Z",
     "start_time": "2021-06-09T22:11:18.785240Z"
    }
   },
   "outputs": [],
   "source": [
    "users_df.groupby('gend')['apps_count'].describe()"
   ]
  },
  {
   "cell_type": "code",
   "execution_count": null,
   "id": "fab402d0",
   "metadata": {
    "ExecuteTime": {
     "end_time": "2021-06-12T12:35:39.730796Z",
     "start_time": "2021-06-12T12:35:36.242589Z"
    }
   },
   "outputs": [],
   "source": [
    "users_df['ids_txt'] = \\\n",
    "    users_df['ids'].apply(\n",
    "        lambda x: \" \".join([str(i) for i in x ]))"
   ]
  },
  {
   "cell_type": "code",
   "execution_count": null,
   "id": "59356217",
   "metadata": {
    "ExecuteTime": {
     "end_time": "2021-06-12T09:45:38.390346Z",
     "start_time": "2021-06-12T09:45:21.011935Z"
    }
   },
   "outputs": [],
   "source": [
    "g_dict = genders_df['F'].to_dict()\n",
    "users_df['F_prob'] = users_df['ids'].apply(\n",
    "    lambda x: np.mean(\n",
    "        list(filter(None.__ne__, list(map(g_dict.get, x))))\n",
    "    )\n",
    ")\n"
   ]
  },
  {
   "cell_type": "code",
   "execution_count": null,
   "id": "5f4fb79d",
   "metadata": {
    "ExecuteTime": {
     "end_time": "2021-06-12T09:52:52.746048Z",
     "start_time": "2021-06-12T09:52:52.666580Z"
    }
   },
   "outputs": [],
   "source": [
    "np.corrcoef(\n",
    "    users_df['F_prob'],\n",
    "    users_df['gend'].astype('category').cat.codes\n",
    ")[0,1]"
   ]
  },
  {
   "cell_type": "code",
   "execution_count": null,
   "id": "ac5f5043",
   "metadata": {
    "ExecuteTime": {
     "end_time": "2021-06-09T21:46:12.954988Z",
     "start_time": "2021-06-09T21:46:06.201472Z"
    }
   },
   "outputs": [],
   "source": [
    "users_df[['F_prob', 'gend']].hist(backend='plotly', color='gend', barmode=\"overlay\")"
   ]
  },
  {
   "cell_type": "code",
   "execution_count": null,
   "id": "4214551a",
   "metadata": {
    "ExecuteTime": {
     "end_time": "2021-06-10T06:25:13.039832Z",
     "start_time": "2021-06-10T06:24:54.942865Z"
    }
   },
   "outputs": [],
   "source": [
    "g_dict = genders_df['M'].to_dict()\n",
    "users_df['M_prob'] = users_df['ids'].apply(\n",
    "    lambda x: np.mean(\n",
    "        list(filter(None.__ne__, list(map(g_dict.get, x))))\n",
    "    )\n",
    ")"
   ]
  },
  {
   "cell_type": "code",
   "execution_count": null,
   "id": "a2bc5cf7",
   "metadata": {
    "ExecuteTime": {
     "end_time": "2021-06-10T06:25:25.410485Z",
     "start_time": "2021-06-10T06:25:18.418817Z"
    }
   },
   "outputs": [],
   "source": [
    "users_df[['M_prob', 'gend']].hist(backend='plotly', color='gend', barmode=\"overlay\")"
   ]
  },
  {
   "cell_type": "markdown",
   "id": "3426cc61",
   "metadata": {},
   "source": [
    "# Baseline"
   ]
  },
  {
   "cell_type": "code",
   "execution_count": null,
   "id": "ce3be157",
   "metadata": {
    "ExecuteTime": {
     "end_time": "2021-06-12T12:36:15.868452Z",
     "start_time": "2021-06-12T12:36:14.859056Z"
    }
   },
   "outputs": [],
   "source": [
    "train, test = train_test_split(\n",
    "    users_df, train_size=0.7,\n",
    "    random_state=0, stratify=users_df['gend'])"
   ]
  },
  {
   "cell_type": "code",
   "execution_count": null,
   "id": "3e0adcd5",
   "metadata": {
    "ExecuteTime": {
     "end_time": "2021-06-12T10:07:50.424466Z",
     "start_time": "2021-06-12T10:07:50.077741Z"
    }
   },
   "outputs": [],
   "source": [
    "print(f\"Accuracy: \\\n",
    "    {accuracy_score(users_df['gend'].astype('category').cat.codes, users_df['F_prob']<0.5)}\")\n",
    "print(f\"AUC: \\\n",
    "    {1 - roc_auc_score(users_df['gend'].astype('category').cat.codes, users_df['F_prob'])}\")\n",
    "#(0.740925288445762, 0.7793767183917958)"
   ]
  },
  {
   "cell_type": "markdown",
   "id": "38fcfa33",
   "metadata": {},
   "source": [
    "# Logistic Regression"
   ]
  },
  {
   "cell_type": "code",
   "execution_count": null,
   "id": "6f18a6db",
   "metadata": {
    "ExecuteTime": {
     "end_time": "2021-06-12T11:42:04.764701Z",
     "start_time": "2021-06-12T11:42:04.026221Z"
    }
   },
   "outputs": [],
   "source": [
    "import itertools\n",
    "\n",
    "len(set(itertools.chain.from_iterable(users_df['ids'])))"
   ]
  },
  {
   "cell_type": "code",
   "execution_count": null,
   "id": "6ae224e6",
   "metadata": {
    "ExecuteTime": {
     "end_time": "2021-06-12T12:23:50.658546Z",
     "start_time": "2021-06-12T12:23:43.506668Z"
    }
   },
   "outputs": [],
   "source": [
    "mlb = MultiLabelBinarizer(sparse_output=True)\n",
    "mlb.fit(users_df['ids'])\n",
    "train_mlb = mlb.transform(train['ids'])\n",
    "test_mlb = mlb.transform(test['ids'])"
   ]
  },
  {
   "cell_type": "code",
   "execution_count": null,
   "id": "2d18d475",
   "metadata": {
    "ExecuteTime": {
     "end_time": "2021-06-12T12:23:50.670144Z",
     "start_time": "2021-06-12T12:23:50.660675Z"
    }
   },
   "outputs": [],
   "source": [
    "def get_oof_lr(n_folds, x_train, y, x_test, seeds):\n",
    "    \n",
    "    ntrain = x_train.shape[0]\n",
    "    ntest = x_test.shape[0]  \n",
    "        \n",
    "    oof_train = np.zeros((len(seeds), ntrain, 2))\n",
    "    oof_test = np.zeros((ntest, 2))\n",
    "    oof_test_skf = np.empty((len(seeds), n_folds, ntest, 2))\n",
    "    models = {}\n",
    "    for iseed, seed in enumerate(seeds):\n",
    "        kf = StratifiedKFold(\n",
    "            n_splits=n_folds,\n",
    "            shuffle=True,\n",
    "            random_state=seed)          \n",
    "        for i, (tr_i, t_i) in enumerate(kf.split(x_train, y)):\n",
    "            print(f'\\nSeed {seed}, Fold {i}')\n",
    "            x_tr = x_train[tr_i, :]\n",
    "            y_tr = y[tr_i]\n",
    "            x_te = x_train[t_i, :]\n",
    "            y_te = y[t_i]\n",
    "            model = LogisticRegression(\n",
    "                random_state=seed,\n",
    "                max_iter = 10000,\n",
    "                verbose=1,\n",
    "                n_jobs=20\n",
    "            )\n",
    "            model.fit(x_tr, y_tr)\n",
    "            oof_train[iseed, t_i, :] = \\\n",
    "                model.predict_proba(x_te)\n",
    "            print(f\"AUC: {roc_auc_score(y_te, oof_train[iseed, t_i, :][:,1])}\")\n",
    "            oof_test_skf[iseed, i, :, :] = \\\n",
    "                model.predict_proba(x_test)\n",
    "            models[(seed, i)] = model\n",
    "    oof_test[:, :] = oof_test_skf.mean(axis=1).mean(axis=0)\n",
    "    oof_train = oof_train.mean(axis=0)\n",
    "    return oof_train, oof_test, models"
   ]
  },
  {
   "cell_type": "code",
   "execution_count": null,
   "id": "8287bc8c",
   "metadata": {
    "ExecuteTime": {
     "end_time": "2021-06-12T12:33:34.032845Z",
     "start_time": "2021-06-12T12:23:52.302150Z"
    }
   },
   "outputs": [],
   "source": [
    "oof_train_lr, oof_test_lr, models_lr = get_oof_lr(\n",
    "    n_folds=5,\n",
    "    x_train=train_mlb,\n",
    "    y=train['gend'].values,\n",
    "    x_test=test_mlb,\n",
    "    seeds=[0, 42, 888]\n",
    ")"
   ]
  },
  {
   "cell_type": "code",
   "execution_count": null,
   "id": "02a8021c",
   "metadata": {
    "ExecuteTime": {
     "end_time": "2021-06-12T12:33:34.634825Z",
     "start_time": "2021-06-12T12:33:34.035612Z"
    }
   },
   "outputs": [],
   "source": [
    "print(f\"Accuracy: \\\n",
    "    {1-accuracy_score(test['gend'].values, np.take(['M','F'], oof_test_lr.argmax(axis=1)))}\")\n",
    "print(f\"AUC: \\\n",
    "    {roc_auc_score(test['gend'].astype('category').cat.codes, oof_test_lr[:,1])}\")\n",
    "#(0.8208932240918818, 0.8798990678456793)"
   ]
  },
  {
   "cell_type": "markdown",
   "id": "65c9bb79",
   "metadata": {},
   "source": [
    "# Catboost Model #1 "
   ]
  },
  {
   "cell_type": "code",
   "execution_count": null,
   "id": "2e124ee1",
   "metadata": {
    "ExecuteTime": {
     "end_time": "2021-06-12T12:36:22.084318Z",
     "start_time": "2021-06-12T12:36:22.074965Z"
    }
   },
   "outputs": [],
   "source": [
    "def fit_model(train_pool, test_pool, **kwargs):\n",
    "    model = CatBoostClassifier(\n",
    "        task_type='GPU',\n",
    "        iterations=10000,\n",
    "        eval_metric='AUC',\n",
    "        od_type='Iter',\n",
    "        od_wait=1000,\n",
    "        learning_rate=0.1,\n",
    "        **kwargs\n",
    "    )\n",
    "\n",
    "    return model.fit(\n",
    "        train_pool,\n",
    "        eval_set=test_pool,\n",
    "        verbose=1000,\n",
    "        plot=False,\n",
    "        use_best_model=True\n",
    "    )"
   ]
  },
  {
   "cell_type": "code",
   "execution_count": null,
   "id": "34d018a7",
   "metadata": {
    "ExecuteTime": {
     "end_time": "2021-06-12T12:36:22.276313Z",
     "start_time": "2021-06-12T12:36:22.242135Z"
    },
    "code_folding": []
   },
   "outputs": [],
   "source": [
    "tpo = {\n",
    "    'tokenizers': [\n",
    "        {\n",
    "            'tokenizer_id': 'SenseL',\n",
    "            'separator_type': 'BySense',\n",
    "            'lowercasing': 'True'\n",
    "        }       \n",
    "    ],\n",
    "    'dictionaries': [\n",
    "        {\n",
    "            'dictionary_id': 'Word',\n",
    "            'token_level_type': 'Word',\n",
    "            'occurrence_lower_bound': '10'\n",
    "        },\n",
    "        {\n",
    "            'dictionary_id': 'Bigram',\n",
    "            'token_level_type': 'Word',\n",
    "            'gram_order': '2',\n",
    "            'occurrence_lower_bound': '10'\n",
    "        },\n",
    "        {\n",
    "            'dictionary_id': 'Trigram',\n",
    "            'token_level_type': 'Word',\n",
    "            'gram_order': '3',\n",
    "            'occurrence_lower_bound': '10'\n",
    "        }\n",
    "    ],\n",
    "    'feature_processing': {\n",
    "        '0': [\n",
    "            {\n",
    "                'tokenizers_names': ['SenseL'],\n",
    "                'dictionaries_names': ['Word'],\n",
    "                'feature_calcers': ['BoW']\n",
    "            },\n",
    "            {\n",
    "                'tokenizers_names': ['SenseL'],\n",
    "                'dictionaries_names': ['Bigram', 'Trigram'],\n",
    "                'feature_calcers': ['BoW']\n",
    "            }\n",
    "        ]\n",
    "    }\n",
    "}"
   ]
  },
  {
   "cell_type": "code",
   "execution_count": null,
   "id": "4a9a302e",
   "metadata": {
    "ExecuteTime": {
     "end_time": "2021-06-12T12:36:22.445727Z",
     "start_time": "2021-06-12T12:36:22.408682Z"
    }
   },
   "outputs": [],
   "source": [
    "def get_oof_cb(n_folds, x_train, y, x_test, text_features, seeds):\n",
    "    \n",
    "    ntrain = x_train.shape[0]\n",
    "    ntest = x_test.shape[0]  \n",
    "        \n",
    "    oof_train = np.zeros((len(seeds), ntrain, 2))\n",
    "    oof_test = np.zeros((ntest, 2))\n",
    "    oof_test_skf = np.empty((len(seeds), n_folds, ntest, 2))\n",
    "    test_pool = Pool(data=x_test, text_features=text_features) \n",
    "    models = {}\n",
    "    for iseed, seed in enumerate(seeds):\n",
    "        kf = StratifiedKFold(\n",
    "            n_splits=n_folds,\n",
    "            shuffle=True,\n",
    "            random_state=seed)          \n",
    "        for i, (tr_i, t_i) in enumerate(kf.split(x_train, y)):\n",
    "            print(f'\\nSeed {seed}, Fold {i}')\n",
    "            x_tr = x_train.iloc[tr_i, :]\n",
    "            y_tr = y[tr_i]\n",
    "            x_te = x_train.iloc[t_i, :]\n",
    "            y_te = y[t_i]\n",
    "            train_pool = Pool(\n",
    "                data=x_tr, label=y_tr, text_features=text_features)\n",
    "            valid_pool = Pool(\n",
    "                data=x_te, label=y_te, text_features=text_features)\n",
    "            model = fit_model(\n",
    "                train_pool, valid_pool,\n",
    "                random_seed=seed,\n",
    "                text_processing = tpo\n",
    "            )\n",
    "            oof_train[iseed, t_i, :] = \\\n",
    "                model.predict_proba(valid_pool)\n",
    "            oof_test_skf[iseed, i, :, :] = \\\n",
    "                model.predict_proba(test_pool)\n",
    "            models[(seed, i)] = model\n",
    "    oof_test[:, :] = oof_test_skf.mean(axis=1).mean(axis=0)\n",
    "    oof_train = oof_train.mean(axis=0)\n",
    "    return oof_train, oof_test, models"
   ]
  },
  {
   "cell_type": "code",
   "execution_count": null,
   "id": "19e789fd",
   "metadata": {
    "ExecuteTime": {
     "end_time": "2021-06-12T13:17:17.506437Z",
     "start_time": "2021-06-12T12:36:22.742631Z"
    }
   },
   "outputs": [],
   "source": [
    "columns = ['ids_txt', 'apps_count']\n",
    "oof_train_cb, oof_test_cb, models_cb = get_oof_cb(\n",
    "    n_folds=5,\n",
    "    x_train=train[columns],\n",
    "    y=train['gend'].values,\n",
    "    x_test=test[columns],\n",
    "    text_features=['ids_txt'],\n",
    "    seeds=[0, 42, 888]\n",
    ")"
   ]
  },
  {
   "cell_type": "code",
   "execution_count": null,
   "id": "10c984a1",
   "metadata": {
    "ExecuteTime": {
     "end_time": "2021-06-12T13:17:18.245848Z",
     "start_time": "2021-06-12T13:17:17.508929Z"
    }
   },
   "outputs": [],
   "source": [
    "accuracy_score(\n",
    "    test['gend'].values,\n",
    "    np.take(models_cb[(0,0)].classes_, oof_test_cb.argmax(axis=1))), \\\n",
    "roc_auc_score(test['gend'].astype('category').cat.codes, oof_test_cb[:,1])\n",
    "#(0.8219498855725884, 0.8855460541892763)"
   ]
  },
  {
   "cell_type": "markdown",
   "id": "b0d1c7c2",
   "metadata": {},
   "source": [
    "# Catboost Model #2"
   ]
  },
  {
   "cell_type": "code",
   "execution_count": null,
   "id": "98748f86",
   "metadata": {
    "ExecuteTime": {
     "end_time": "2021-06-12T13:17:18.294443Z",
     "start_time": "2021-06-12T13:17:18.248319Z"
    }
   },
   "outputs": [],
   "source": [
    "train_2 = train.copy()\n",
    "test_2 = test.copy()\n",
    "\n",
    "train_2['lr'] = oof_train_lr[:,1]\n",
    "test_2['lr'] = oof_test_lr[:,1]\n",
    "\n",
    "train_2['cb'] = oof_train_cb[:,1]\n",
    "test_2['cb'] = oof_test_cb[:,1]\n"
   ]
  },
  {
   "cell_type": "code",
   "execution_count": null,
   "id": "e5ae86cc",
   "metadata": {
    "ExecuteTime": {
     "end_time": "2021-06-12T13:49:37.817870Z",
     "start_time": "2021-06-12T13:17:18.296799Z"
    }
   },
   "outputs": [],
   "source": [
    "columns = ['ids_txt', 'F_prob', 'lr', 'apps_count']\n",
    "\n",
    "oof_train_cb_2, oof_test_cb_2, models_cb_2 = get_oof(\n",
    "    n_folds=5,\n",
    "    x_train=train_2[columns],\n",
    "    y=train_2['gend'].values,\n",
    "    x_test=test_2[columns],\n",
    "    text_features=['ids_txt'],\n",
    "    seeds=[0, 42, 888]\n",
    ")"
   ]
  },
  {
   "cell_type": "code",
   "execution_count": null,
   "id": "aaa78e91",
   "metadata": {
    "ExecuteTime": {
     "end_time": "2021-06-12T13:49:38.541082Z",
     "start_time": "2021-06-12T13:49:37.820046Z"
    }
   },
   "outputs": [],
   "source": [
    "accuracy_score(\n",
    "    test_2['gend'].values,\n",
    "    np.take(models_cb_2[(0,0)].classes_, oof_test_cb_2.argmax(axis=1))), \\\n",
    "roc_auc_score(test_2['gend'].astype('category').cat.codes, oof_test_cb_2[:,1])\n",
    "#(0.8369661602833339, 0.9009988949146348)"
   ]
  },
  {
   "cell_type": "code",
   "execution_count": null,
   "id": "f41ec028",
   "metadata": {},
   "outputs": [],
   "source": []
  },
  {
   "cell_type": "code",
   "execution_count": null,
   "id": "bcef120c",
   "metadata": {},
   "outputs": [],
   "source": []
  }
 ],
 "metadata": {
  "kernelspec": {
   "display_name": "Python 3",
   "language": "python",
   "name": "python3"
  },
  "language_info": {
   "codemirror_mode": {
    "name": "ipython",
    "version": 3
   },
   "file_extension": ".py",
   "mimetype": "text/x-python",
   "name": "python",
   "nbconvert_exporter": "python",
   "pygments_lexer": "ipython3",
   "version": "3.8.6"
  }
 },
 "nbformat": 4,
 "nbformat_minor": 5
}
